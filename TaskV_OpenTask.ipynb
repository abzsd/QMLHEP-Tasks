{
 "cells": [
  {
   "cell_type": "markdown",
   "metadata": {},
   "source": [
    "# Quantum Machine Learning\n",
    "\n",
    "Quantum Machine Learning (QML) is an area, which combines the already existing concepts in the field of Machine Learning with the concepts of Quantum Mechanics. It consists of various algorithms for the analysis of data on a Quantum Computer. The current approach is ' Hybrid ' i.e. usign both the classical and quantum computers."
   ]
  },
  {
   "cell_type": "markdown",
   "metadata": {},
   "source": [
    "Machine Learning is an interdisciploinary field which seeks to find patterns in data. The approach of using a Quantum Computer along with Machine Learning, aims to  decrease complexity and increase efficient storage space utilization, of the QML algorithm. The various benefits received after using the concept of Quantum Computing, motivates the scientists and researchers to use Quantum Computing as a way to increase the accuracy of the results. Also,the use of QML motivates them to dive more into Quantum Computing, so that scientists and professors can harness quantum advantage while computing/doing experiments."
   ]
  },
  {
   "cell_type": "markdown",
   "metadata": {},
   "source": [
    "The quantum softwares I am familiar with are - Cirq and Qiskit. \n",
    "I have been working with IBM Qiskit since long, and have prepared some projects using IBM Qiskit. I have prepared QChess- Chess combined with Quantum Mechanics; Quantum TicTacToe and a QML algorithm for Vehicle Routing Problem.  I'm also the IBM Qiskit Advocate and have been trying to do research using Qiskit. I have used Qiskit for working on Rigid Body Rotation simulation on Quantum Compter and also currently using qiskit for the research on QEC approach on CX gate fidelity estimation.\n",
    "\n",
    "Also, I have worked with Cirq for one project related to QML and, I learned a lot about Cirq while doing the Various Evaluative Tasks for the GSoC'22 for ML4SCI.\n"
   ]
  },
  {
   "cell_type": "markdown",
   "metadata": {},
   "source": [
    "##### Methods / Approach :\n",
    "\n",
    "Firstly, we need to talk about the Data and its preprocessign for it to be used efficiently in the QML algorithm. So it includes - \n",
    "1. Data Dimensionality Reduction\n",
    "2. Normalization\n",
    "3. Convolution\n",
    "\n",
    "Also,\n",
    "Generative models, and Generative Adversarial Networks (GAN) in\n",
    "particular, are being studied as possible alternatives to Monte Carlo simulations.\n",
    "It has been proposed that, in certain circumstances, simulation using GANs can\n",
    "be sped-up by using quantum GANs (qGANs). [1] \n",
    "\n",
    " The new approach can be as follows :\n",
    " 1. Using a dual-Parameterized Quantum Circuit\n",
    "(PQC) GAN, which consists of a classical discriminator and two quantum generators which take the form of PQCs. The first PQC learns a probability distribution over N-pixel images, while the second generates normalized pixel intensities of an individual image for each PQC input.\n",
    "\n",
    "2. Using the already existing Continuous Variable Quantum GAN [2]\n",
    "\n",
    "3. Using Tree-Tensor-Network architecture for the quantum generator circuit, to reproduce the results, and optimization of the training hyperparameters to increase the accuracy.[3]\n",
    "\n",
    "\n",
    "These are the various techniques that can be used along with the QGAN approach and further research can be done, to find out better models for QGAN. Various other ideas would be specified in the final proposal/after discussion with the professors."
   ]
  },
  {
   "cell_type": "markdown",
   "metadata": {},
   "source": [
    "References : \n",
    "\n",
    "[1] Su Yeon Chang et al. _Dual-Parameterized Quantum Circuit GAN Model in High Energy Physics_. Mar. 2021, arXiv: 2103.15470v1\n",
    "\n",
    "[2] Su Yeon Chang _\"Quantum Generative Adversarial Networks\" CERN Openlab Technical Workshop_ Slides, link: https://quantum.cern/sites/default/files/2021-04/QGAN.pdf\n",
    "\n",
    "[3] F. Rehm et al. _Quantum Machine Learning for HEP Detector Simulations_.  2021, link: http://ceur-ws.org/Vol-3041/363-368-paper-67.pdf "
   ]
  },
  {
   "cell_type": "markdown",
   "metadata": {},
   "source": []
  }
 ],
 "metadata": {
  "language_info": {
   "name": "python"
  },
  "orig_nbformat": 4
 },
 "nbformat": 4,
 "nbformat_minor": 2
}
